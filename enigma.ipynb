{
 "cells": [
  {
   "cell_type": "code",
   "execution_count": 1,
   "id": "31aa4711",
   "metadata": {
    "_cell_guid": "b1076dfc-b9ad-4769-8c92-a6c4dae69d19",
    "_uuid": "8f2839f25d086af736a60e9eeb907d3b93b6e0e5",
    "execution": {
     "iopub.execute_input": "2025-02-04T13:48:30.556657Z",
     "iopub.status.busy": "2025-02-04T13:48:30.556135Z",
     "iopub.status.idle": "2025-02-04T13:48:31.556146Z",
     "shell.execute_reply": "2025-02-04T13:48:31.554762Z"
    },
    "papermill": {
     "duration": 1.008162,
     "end_time": "2025-02-04T13:48:31.558064",
     "exception": false,
     "start_time": "2025-02-04T13:48:30.549902",
     "status": "completed"
    },
    "tags": []
   },
   "outputs": [
    {
     "name": "stdout",
     "output_type": "stream",
     "text": [
      "/kaggle/input/d/samyakjain2052/new-data/combine_data_final.csv\n",
      "/kaggle/input/d/samyakjain2052/new-data/test_data.csv\n",
      "/kaggle/input/d/samyakjain2052/dataset/combine_data_final.csv\n",
      "/kaggle/input/d/samyakjain2052/dataset/test_data.csv\n",
      "/kaggle/input/final-data/train_data.csv\n",
      "/kaggle/input/final-data/test_data.csv\n"
     ]
    }
   ],
   "source": [
    "# This Python 3 environment comes with many helpful analytics libraries installed\n",
    "# It is defined by the kaggle/python Docker image: https://github.com/kaggle/docker-python\n",
    "# For example, here's several helpful packages to load\n",
    "\n",
    "import numpy as np # linear algebra\n",
    "import pandas as pd # data processing, CSV file I/O (e.g. pd.read_csv)\n",
    "\n",
    "# Input data files are available in the read-only \"../input/\" directory\n",
    "# For example, running this (by clicking run or pressing Shift+Enter) will list all files under the input directory\n",
    "\n",
    "import os\n",
    "for dirname, _, filenames in os.walk('/kaggle/input'):\n",
    "    for filename in filenames:\n",
    "        print(os.path.join(dirname, filename))\n",
    "\n",
    "# You can write up to 20GB to the current directory (/kaggle/working/) that gets preserved as output when you create a version using \"Save & Run All\" \n",
    "# You can also write temporary files to /kaggle/temp/, but they won't be saved outside of the current session"
   ]
  },
  {
   "cell_type": "code",
   "execution_count": 2,
   "id": "3f29b159",
   "metadata": {
    "execution": {
     "iopub.execute_input": "2025-02-04T13:48:31.568836Z",
     "iopub.status.busy": "2025-02-04T13:48:31.568184Z",
     "iopub.status.idle": "2025-02-04T13:48:51.449746Z",
     "shell.execute_reply": "2025-02-04T13:48:51.448715Z"
    },
    "papermill": {
     "duration": 19.889035,
     "end_time": "2025-02-04T13:48:51.451749",
     "exception": false,
     "start_time": "2025-02-04T13:48:31.562714",
     "status": "completed"
    },
    "tags": []
   },
   "outputs": [],
   "source": [
    "import numpy as np\n",
    "import pandas as pd\n",
    "import tensorflow as tf\n",
    "import tensorflow_decision_forests as tfdf\n",
    "import optuna\n",
    "from sklearn.model_selection import StratifiedKFold\n",
    "from sklearn.metrics import accuracy_score, roc_auc_score\n",
    "from sklearn.preprocessing import StandardScaler\n",
    "from functools import partial"
   ]
  },
  {
   "cell_type": "code",
   "execution_count": 3,
   "id": "8962dc23",
   "metadata": {
    "execution": {
     "iopub.execute_input": "2025-02-04T13:48:51.462150Z",
     "iopub.status.busy": "2025-02-04T13:48:51.461329Z",
     "iopub.status.idle": "2025-02-04T13:48:51.488622Z",
     "shell.execute_reply": "2025-02-04T13:48:51.487414Z"
    },
    "papermill": {
     "duration": 0.03458,
     "end_time": "2025-02-04T13:48:51.490707",
     "exception": false,
     "start_time": "2025-02-04T13:48:51.456127",
     "status": "completed"
    },
    "tags": []
   },
   "outputs": [],
   "source": [
    "df = pd.read_csv(\"/kaggle/input/d/samyakjain2052/new-data/combine_data_final.csv\")"
   ]
  },
  {
   "cell_type": "code",
   "execution_count": 4,
   "id": "e9a9f936",
   "metadata": {
    "execution": {
     "iopub.execute_input": "2025-02-04T13:48:51.501066Z",
     "iopub.status.busy": "2025-02-04T13:48:51.500563Z",
     "iopub.status.idle": "2025-02-04T13:48:51.529235Z",
     "shell.execute_reply": "2025-02-04T13:48:51.528048Z"
    },
    "papermill": {
     "duration": 0.035944,
     "end_time": "2025-02-04T13:48:51.531153",
     "exception": false,
     "start_time": "2025-02-04T13:48:51.495209",
     "status": "completed"
    },
    "tags": []
   },
   "outputs": [
    {
     "data": {
      "text/html": [
       "<div>\n",
       "<style scoped>\n",
       "    .dataframe tbody tr th:only-of-type {\n",
       "        vertical-align: middle;\n",
       "    }\n",
       "\n",
       "    .dataframe tbody tr th {\n",
       "        vertical-align: top;\n",
       "    }\n",
       "\n",
       "    .dataframe thead th {\n",
       "        text-align: right;\n",
       "    }\n",
       "</style>\n",
       "<table border=\"1\" class=\"dataframe\">\n",
       "  <thead>\n",
       "    <tr style=\"text-align: right;\">\n",
       "      <th></th>\n",
       "      <th>UID</th>\n",
       "      <th>Target</th>\n",
       "      <th>Feature_5</th>\n",
       "      <th>Feature_16</th>\n",
       "      <th>Feature_10</th>\n",
       "      <th>Feature_11</th>\n",
       "      <th>Feature_13</th>\n",
       "      <th>Feature_9</th>\n",
       "      <th>Feature_15</th>\n",
       "      <th>Feature_6</th>\n",
       "      <th>Feature_1</th>\n",
       "    </tr>\n",
       "  </thead>\n",
       "  <tbody>\n",
       "    <tr>\n",
       "      <th>0</th>\n",
       "      <td>1</td>\n",
       "      <td>0</td>\n",
       "      <td>3</td>\n",
       "      <td>1</td>\n",
       "      <td>22.0</td>\n",
       "      <td>1</td>\n",
       "      <td>0</td>\n",
       "      <td>A/5 21171</td>\n",
       "      <td>7.2500</td>\n",
       "      <td>NaN</td>\n",
       "      <td>S</td>\n",
       "    </tr>\n",
       "    <tr>\n",
       "      <th>1</th>\n",
       "      <td>2</td>\n",
       "      <td>1</td>\n",
       "      <td>1</td>\n",
       "      <td>2</td>\n",
       "      <td>38.0</td>\n",
       "      <td>1</td>\n",
       "      <td>0</td>\n",
       "      <td>PC 17599</td>\n",
       "      <td>71.2833</td>\n",
       "      <td>C85</td>\n",
       "      <td>C</td>\n",
       "    </tr>\n",
       "    <tr>\n",
       "      <th>2</th>\n",
       "      <td>3</td>\n",
       "      <td>1</td>\n",
       "      <td>3</td>\n",
       "      <td>2</td>\n",
       "      <td>26.0</td>\n",
       "      <td>0</td>\n",
       "      <td>0</td>\n",
       "      <td>STON/O2. 3101282</td>\n",
       "      <td>7.9250</td>\n",
       "      <td>NaN</td>\n",
       "      <td>S</td>\n",
       "    </tr>\n",
       "    <tr>\n",
       "      <th>3</th>\n",
       "      <td>4</td>\n",
       "      <td>1</td>\n",
       "      <td>1</td>\n",
       "      <td>2</td>\n",
       "      <td>35.0</td>\n",
       "      <td>1</td>\n",
       "      <td>0</td>\n",
       "      <td>113803</td>\n",
       "      <td>53.1000</td>\n",
       "      <td>C123</td>\n",
       "      <td>S</td>\n",
       "    </tr>\n",
       "    <tr>\n",
       "      <th>4</th>\n",
       "      <td>5</td>\n",
       "      <td>0</td>\n",
       "      <td>3</td>\n",
       "      <td>1</td>\n",
       "      <td>35.0</td>\n",
       "      <td>0</td>\n",
       "      <td>0</td>\n",
       "      <td>373450</td>\n",
       "      <td>8.0500</td>\n",
       "      <td>NaN</td>\n",
       "      <td>S</td>\n",
       "    </tr>\n",
       "  </tbody>\n",
       "</table>\n",
       "</div>"
      ],
      "text/plain": [
       "   UID  Target  Feature_5  Feature_16  Feature_10  Feature_11  Feature_13  \\\n",
       "0    1       0          3           1        22.0           1           0   \n",
       "1    2       1          1           2        38.0           1           0   \n",
       "2    3       1          3           2        26.0           0           0   \n",
       "3    4       1          1           2        35.0           1           0   \n",
       "4    5       0          3           1        35.0           0           0   \n",
       "\n",
       "          Feature_9  Feature_15 Feature_6 Feature_1  \n",
       "0         A/5 21171      7.2500       NaN         S  \n",
       "1          PC 17599     71.2833       C85         C  \n",
       "2  STON/O2. 3101282      7.9250       NaN         S  \n",
       "3            113803     53.1000      C123         S  \n",
       "4            373450      8.0500       NaN         S  "
      ]
     },
     "execution_count": 4,
     "metadata": {},
     "output_type": "execute_result"
    }
   ],
   "source": [
    "df.head()"
   ]
  },
  {
   "cell_type": "code",
   "execution_count": 5,
   "id": "eb78c22c",
   "metadata": {
    "execution": {
     "iopub.execute_input": "2025-02-04T13:48:51.542083Z",
     "iopub.status.busy": "2025-02-04T13:48:51.541736Z",
     "iopub.status.idle": "2025-02-04T13:48:51.552376Z",
     "shell.execute_reply": "2025-02-04T13:48:51.551151Z"
    },
    "papermill": {
     "duration": 0.018358,
     "end_time": "2025-02-04T13:48:51.554379",
     "exception": false,
     "start_time": "2025-02-04T13:48:51.536021",
     "status": "completed"
    },
    "tags": []
   },
   "outputs": [
    {
     "data": {
      "text/plain": [
       "UID              0\n",
       "Target           0\n",
       "Feature_5        0\n",
       "Feature_16       0\n",
       "Feature_10     494\n",
       "Feature_11       0\n",
       "Feature_13       0\n",
       "Feature_9        0\n",
       "Feature_15       0\n",
       "Feature_6     1927\n",
       "Feature_1        6\n",
       "dtype: int64"
      ]
     },
     "execution_count": 5,
     "metadata": {},
     "output_type": "execute_result"
    }
   ],
   "source": [
    "df.isnull().sum()"
   ]
  },
  {
   "cell_type": "code",
   "execution_count": 6,
   "id": "d458e37e",
   "metadata": {
    "execution": {
     "iopub.execute_input": "2025-02-04T13:48:51.565076Z",
     "iopub.status.busy": "2025-02-04T13:48:51.564738Z",
     "iopub.status.idle": "2025-02-04T13:48:51.572687Z",
     "shell.execute_reply": "2025-02-04T13:48:51.571611Z"
    },
    "papermill": {
     "duration": 0.015174,
     "end_time": "2025-02-04T13:48:51.574427",
     "exception": false,
     "start_time": "2025-02-04T13:48:51.559253",
     "status": "completed"
    },
    "tags": []
   },
   "outputs": [
    {
     "data": {
      "text/plain": [
       "UID              0\n",
       "Target           0\n",
       "Feature_5        0\n",
       "Feature_16       0\n",
       "Feature_10     494\n",
       "Feature_11       0\n",
       "Feature_13       0\n",
       "Feature_9        0\n",
       "Feature_15       0\n",
       "Feature_6     1927\n",
       "Feature_1        6\n",
       "dtype: int64"
      ]
     },
     "execution_count": 6,
     "metadata": {},
     "output_type": "execute_result"
    }
   ],
   "source": [
    "# Check missing values\n",
    "df.isnull().sum()"
   ]
  },
  {
   "cell_type": "code",
   "execution_count": 7,
   "id": "84c1eb79",
   "metadata": {
    "execution": {
     "iopub.execute_input": "2025-02-04T13:48:51.585461Z",
     "iopub.status.busy": "2025-02-04T13:48:51.585111Z",
     "iopub.status.idle": "2025-02-04T13:48:51.617751Z",
     "shell.execute_reply": "2025-02-04T13:48:51.616657Z"
    },
    "papermill": {
     "duration": 0.040195,
     "end_time": "2025-02-04T13:48:51.619552",
     "exception": false,
     "start_time": "2025-02-04T13:48:51.579357",
     "status": "completed"
    },
    "tags": []
   },
   "outputs": [
    {
     "data": {
      "text/html": [
       "<div>\n",
       "<style scoped>\n",
       "    .dataframe tbody tr th:only-of-type {\n",
       "        vertical-align: middle;\n",
       "    }\n",
       "\n",
       "    .dataframe tbody tr th {\n",
       "        vertical-align: top;\n",
       "    }\n",
       "\n",
       "    .dataframe thead th {\n",
       "        text-align: right;\n",
       "    }\n",
       "</style>\n",
       "<table border=\"1\" class=\"dataframe\">\n",
       "  <thead>\n",
       "    <tr style=\"text-align: right;\">\n",
       "      <th></th>\n",
       "      <th>UID</th>\n",
       "      <th>Target</th>\n",
       "      <th>Feature_5</th>\n",
       "      <th>Feature_16</th>\n",
       "      <th>Feature_10</th>\n",
       "      <th>Feature_11</th>\n",
       "      <th>Feature_13</th>\n",
       "      <th>Feature_15</th>\n",
       "    </tr>\n",
       "  </thead>\n",
       "  <tbody>\n",
       "    <tr>\n",
       "      <th>count</th>\n",
       "      <td>2494.000000</td>\n",
       "      <td>2494.000000</td>\n",
       "      <td>2494.000000</td>\n",
       "      <td>2494.000000</td>\n",
       "      <td>2000.00000</td>\n",
       "      <td>2494.000000</td>\n",
       "      <td>2494.000000</td>\n",
       "      <td>2494.000000</td>\n",
       "    </tr>\n",
       "    <tr>\n",
       "      <th>mean</th>\n",
       "      <td>674.816359</td>\n",
       "      <td>0.381716</td>\n",
       "      <td>2.314755</td>\n",
       "      <td>1.389735</td>\n",
       "      <td>29.64184</td>\n",
       "      <td>0.481957</td>\n",
       "      <td>0.430634</td>\n",
       "      <td>32.313283</td>\n",
       "    </tr>\n",
       "    <tr>\n",
       "      <th>std</th>\n",
       "      <td>436.401260</td>\n",
       "      <td>0.485905</td>\n",
       "      <td>0.832531</td>\n",
       "      <td>0.487788</td>\n",
       "      <td>14.51196</td>\n",
       "      <td>1.025290</td>\n",
       "      <td>0.929850</td>\n",
       "      <td>50.333678</td>\n",
       "    </tr>\n",
       "    <tr>\n",
       "      <th>min</th>\n",
       "      <td>1.000000</td>\n",
       "      <td>0.000000</td>\n",
       "      <td>1.000000</td>\n",
       "      <td>1.000000</td>\n",
       "      <td>0.42000</td>\n",
       "      <td>0.000000</td>\n",
       "      <td>0.000000</td>\n",
       "      <td>0.000000</td>\n",
       "    </tr>\n",
       "    <tr>\n",
       "      <th>25%</th>\n",
       "      <td>312.250000</td>\n",
       "      <td>0.000000</td>\n",
       "      <td>2.000000</td>\n",
       "      <td>1.000000</td>\n",
       "      <td>20.37500</td>\n",
       "      <td>0.000000</td>\n",
       "      <td>0.000000</td>\n",
       "      <td>7.925000</td>\n",
       "    </tr>\n",
       "    <tr>\n",
       "      <th>50%</th>\n",
       "      <td>624.000000</td>\n",
       "      <td>0.000000</td>\n",
       "      <td>3.000000</td>\n",
       "      <td>1.000000</td>\n",
       "      <td>28.00000</td>\n",
       "      <td>0.000000</td>\n",
       "      <td>0.000000</td>\n",
       "      <td>14.454200</td>\n",
       "    </tr>\n",
       "    <tr>\n",
       "      <th>75%</th>\n",
       "      <td>979.750000</td>\n",
       "      <td>1.000000</td>\n",
       "      <td>3.000000</td>\n",
       "      <td>2.000000</td>\n",
       "      <td>38.00000</td>\n",
       "      <td>1.000000</td>\n",
       "      <td>1.000000</td>\n",
       "      <td>31.000000</td>\n",
       "    </tr>\n",
       "    <tr>\n",
       "      <th>max</th>\n",
       "      <td>1603.000000</td>\n",
       "      <td>1.000000</td>\n",
       "      <td>3.000000</td>\n",
       "      <td>2.000000</td>\n",
       "      <td>80.00000</td>\n",
       "      <td>8.000000</td>\n",
       "      <td>8.000000</td>\n",
       "      <td>512.329200</td>\n",
       "    </tr>\n",
       "  </tbody>\n",
       "</table>\n",
       "</div>"
      ],
      "text/plain": [
       "               UID       Target    Feature_5   Feature_16  Feature_10  \\\n",
       "count  2494.000000  2494.000000  2494.000000  2494.000000  2000.00000   \n",
       "mean    674.816359     0.381716     2.314755     1.389735    29.64184   \n",
       "std     436.401260     0.485905     0.832531     0.487788    14.51196   \n",
       "min       1.000000     0.000000     1.000000     1.000000     0.42000   \n",
       "25%     312.250000     0.000000     2.000000     1.000000    20.37500   \n",
       "50%     624.000000     0.000000     3.000000     1.000000    28.00000   \n",
       "75%     979.750000     1.000000     3.000000     2.000000    38.00000   \n",
       "max    1603.000000     1.000000     3.000000     2.000000    80.00000   \n",
       "\n",
       "        Feature_11   Feature_13   Feature_15  \n",
       "count  2494.000000  2494.000000  2494.000000  \n",
       "mean      0.481957     0.430634    32.313283  \n",
       "std       1.025290     0.929850    50.333678  \n",
       "min       0.000000     0.000000     0.000000  \n",
       "25%       0.000000     0.000000     7.925000  \n",
       "50%       0.000000     0.000000    14.454200  \n",
       "75%       1.000000     1.000000    31.000000  \n",
       "max       8.000000     8.000000   512.329200  "
      ]
     },
     "execution_count": 7,
     "metadata": {},
     "output_type": "execute_result"
    }
   ],
   "source": [
    "# Summary statistics for numerical columns\n",
    "df.describe()"
   ]
  },
  {
   "cell_type": "code",
   "execution_count": 8,
   "id": "fe861d03",
   "metadata": {
    "execution": {
     "iopub.execute_input": "2025-02-04T13:48:51.630861Z",
     "iopub.status.busy": "2025-02-04T13:48:51.630423Z",
     "iopub.status.idle": "2025-02-04T13:48:53.742241Z",
     "shell.execute_reply": "2025-02-04T13:48:53.741184Z"
    },
    "papermill": {
     "duration": 2.119239,
     "end_time": "2025-02-04T13:48:53.743988",
     "exception": false,
     "start_time": "2025-02-04T13:48:51.624749",
     "status": "completed"
    },
    "tags": []
   },
   "outputs": [
    {
     "data": {
      "image/png": "[encoded data removed]",
      "text/plain": [
       "<Figure size 1000x800 with 9 Axes>"
      ]
     },
     "metadata": {},
     "output_type": "display_data"
    }
   ],
   "source": [
    "import matplotlib.pyplot as plt\n",
    "import seaborn as sns\n",
    "\n",
    "# Plot distributions\n",
    "df.hist(figsize=(10, 8), bins=20)\n",
    "plt.show()\n"
   ]
  },
  {
   "cell_type": "code",
   "execution_count": 9,
   "id": "ce2f9897",
   "metadata": {
    "execution": {
     "iopub.execute_input": "2025-02-04T13:48:53.757398Z",
     "iopub.status.busy": "2025-02-04T13:48:53.756728Z",
     "iopub.status.idle": "2025-02-04T13:48:53.925839Z",
     "shell.execute_reply": "2025-02-04T13:48:53.924646Z"
    },
    "papermill": {
     "duration": 0.177856,
     "end_time": "2025-02-04T13:48:53.927751",
     "exception": false,
     "start_time": "2025-02-04T13:48:53.749895",
     "status": "completed"
    },
    "tags": []
   },
   "outputs": [
    {
     "data": {
      "image/png": "[encoded data removed]",
      "text/plain": [
       "<Figure size 640x480 with 1 Axes>"
      ]
     },
     "metadata": {},
     "output_type": "display_data"
    }
   ],
   "source": [
    "# Count of Target variable\n",
    "sns.countplot(x=df[\"Target\"])\n",
    "plt.title(\"Target Variable Distribution\")\n",
    "plt.show()\n"
   ]
  },
  {
   "cell_type": "code",
   "execution_count": 10,
   "id": "97818d96",
   "metadata": {
    "execution": {
     "iopub.execute_input": "2025-02-04T13:48:53.942016Z",
     "iopub.status.busy": "2025-02-04T13:48:53.941623Z",
     "iopub.status.idle": "2025-02-04T13:48:53.952856Z",
     "shell.execute_reply": "2025-02-04T13:48:53.951763Z"
    },
    "papermill": {
     "duration": 0.020358,
     "end_time": "2025-02-04T13:48:53.954714",
     "exception": false,
     "start_time": "2025-02-04T13:48:53.934356",
     "status": "completed"
    },
    "tags": []
   },
   "outputs": [
    {
     "data": {
      "text/plain": [
       "Feature_9    681\n",
       "Feature_1      3\n",
       "dtype: int64"
      ]
     },
     "execution_count": 10,
     "metadata": {},
     "output_type": "execute_result"
    }
   ],
   "source": [
    "# Unique values in categorical features\n",
    "df[['Feature_9', 'Feature_1']].nunique()\n"
   ]
  },
  {
   "cell_type": "code",
   "execution_count": 11,
   "id": "7186dde1",
   "metadata": {
    "execution": {
     "iopub.execute_input": "2025-02-04T13:48:53.969682Z",
     "iopub.status.busy": "2025-02-04T13:48:53.969278Z",
     "iopub.status.idle": "2025-02-04T13:48:55.646988Z",
     "shell.execute_reply": "2025-02-04T13:48:55.645670Z"
    },
    "papermill": {
     "duration": 1.687455,
     "end_time": "2025-02-04T13:48:55.649001",
     "exception": false,
     "start_time": "2025-02-04T13:48:53.961546",
     "status": "completed"
    },
    "tags": []
   },
   "outputs": [
    {
     "data": {
      "image/png": "[encoded data removed]",
      "text/plain": [
       "<Figure size 1200x800 with 8 Axes>"
      ]
     },
     "metadata": {},
     "output_type": "display_data"
    }
   ],
   "source": [
    "import matplotlib.pyplot as plt\n",
    "import seaborn as sns\n",
    "\n",
    "# Select numerical columns only\n",
    "num_cols = df.select_dtypes(include=['int64', 'float64']).columns\n",
    "\n",
    "# Create box plots for each numerical column\n",
    "plt.figure(figsize=(12, 8))\n",
    "for i, col in enumerate(num_cols, 1):\n",
    "    plt.subplot(3, 3, i)  # Adjust rows & cols as per dataset\n",
    "    sns.boxplot(y=df[col])\n",
    "    plt.title(f'Box Plot of {col}')\n",
    "    plt.tight_layout()\n",
    "\n",
    "plt.show()\n"
   ]
  },
  {
   "cell_type": "code",
   "execution_count": 12,
   "id": "5c859931",
   "metadata": {
    "execution": {
     "iopub.execute_input": "2025-02-04T13:48:55.665942Z",
     "iopub.status.busy": "2025-02-04T13:48:55.665488Z",
     "iopub.status.idle": "2025-02-04T13:48:55.936154Z",
     "shell.execute_reply": "2025-02-04T13:48:55.934945Z"
    },
    "papermill": {
     "duration": 0.281116,
     "end_time": "2025-02-04T13:48:55.937995",
     "exception": false,
     "start_time": "2025-02-04T13:48:55.656879",
     "status": "completed"
    },
    "tags": []
   },
   "outputs": [
    {
     "data": {
      "image/png": "[encoded data removed]",
      "text/plain": [
       "<Figure size 800x600 with 2 Axes>"
      ]
     },
     "metadata": {},
     "output_type": "display_data"
    }
   ],
   "source": [
    "\n",
    "# Compute correlation of numerical columns with the Target column\n",
    "num_cols = df.select_dtypes(include=['int64', 'float64']).columns\n",
    "correlation_matrix = df[num_cols].corr()\n",
    "\n",
    "# Extract correlation of each feature with Target\n",
    "target_correlation = correlation_matrix[\"Target\"].sort_values(ascending=False)\n",
    "\n",
    "# Plot heatmap\n",
    "plt.figure(figsize=(8, 6))\n",
    "sns.heatmap(target_correlation.to_frame(), annot=True, cmap=\"coolwarm\", linewidths=0.5)\n",
    "plt.title(\"Correlation of Features with Target\")\n",
    "plt.show()\n"
   ]
  },
  {
   "cell_type": "code",
   "execution_count": 13,
   "id": "0b3b3c07",
   "metadata": {
    "execution": {
     "iopub.execute_input": "2025-02-04T13:48:55.957102Z",
     "iopub.status.busy": "2025-02-04T13:48:55.956752Z",
     "iopub.status.idle": "2025-02-04T13:48:55.969086Z",
     "shell.execute_reply": "2025-02-04T13:48:55.968113Z"
    },
    "papermill": {
     "duration": 0.023958,
     "end_time": "2025-02-04T13:48:55.970636",
     "exception": false,
     "start_time": "2025-02-04T13:48:55.946678",
     "status": "completed"
    },
    "tags": []
   },
   "outputs": [],
   "source": [
    "def preprocess(df, scaler=None, is_training=True):\n",
    "    \"\"\"Enhanced preprocessing with better feature engineering and scaling\"\"\"\n",
    "    df = df.copy()\n",
    "\n",
    "    # Basic imputation with more sophisticated grouping\n",
    "    df['Feature_10'] = df['Feature_10'].fillna(df.groupby(['Feature_5', 'Feature_16'])['Feature_10'].transform('median'))\n",
    "    df['Feature_15'] = df['Feature_15'].fillna(df.groupby(['Feature_5', 'Feature_1'])['Feature_15'].transform('median'))\n",
    "    df['Feature_1'] = df['Feature_1'].fillna(df['Feature_1'].mode()[0])\n",
    "\n",
    "    # Feature engineering\n",
    "    df['Feature_17'] = (~df['Feature_6'].isna()).astype(int)\n",
    "    df['Feature_18'] = df['Feature_11'] + df['Feature_13'] + 1\n",
    "    df['Feature_19'] = (df['Feature_18'] == 1).astype(int)\n",
    "\n",
    "    # Fixed binning for FamilySize\n",
    "    df['Feature_20'] = pd.cut(df['Feature_18'], \n",
    "                              bins=[0, 1, 2, 4, float('inf')],\n",
    "                              labels=['Single', 'Small', 'Medium', 'Large'],\n",
    "                              include_lowest=True)\n",
    "\n",
    "    # Handle fare binning\n",
    "    try:\n",
    "        df['Feature_21'] = pd.qcut(df['Feature_15'], \n",
    "                               q=5, \n",
    "                               labels=['Very_Low', 'Low', 'Medium', 'High', 'Very_High'])\n",
    "    except ValueError:\n",
    "        fare_bins = [0, df['Feature_15'].quantile(0.2), df['Feature_15'].quantile(0.4),\n",
    "                    df['Feature_15'].quantile(0.6), df['Feature_15'].quantile(0.8), float('inf')]\n",
    "        df['Feature_21'] = pd.cut(df['Feature_15'], \n",
    "                              bins=fare_bins,\n",
    "                              labels=['Very_Low', 'Low', 'Medium', 'High', 'Very_High'],\n",
    "                              include_lowest=True)\n",
    "\n",
    "    # Handle age binning\n",
    "    try:\n",
    "        df['Feature_22'] = pd.qcut(df['Feature_10'],\n",
    "                              q=5,\n",
    "                              labels=['Very_Young', 'Young', 'Middle', 'Mature', 'Senior'])\n",
    "    except ValueError:\n",
    "        age_bins = [0, 16, 32, 48, 64, float('inf')]\n",
    "        df['Feature_22'] = pd.cut(df['Feature_10'],\n",
    "                             bins=age_bins,\n",
    "                             labels=['Very_Young', 'Young', 'Middle', 'Mature', 'Senior'],\n",
    "                             include_lowest=True)\n",
    "\n",
    "    # Create numerical features\n",
    "    df['Feature_23'] = df['Feature_15'] / df['Feature_18']\n",
    "    df['Feature_24'] = df['Feature_10'] / (df['Feature_15'] + 1)  # Avoid division by zero\n",
    "\n",
    "    # Scale numerical features\n",
    "    numerical_features = ['Feature_10', 'Feature_15', 'Feature_23', 'Feature_24']\n",
    "    if is_training:\n",
    "        scaler = StandardScaler()\n",
    "        df[numerical_features] = scaler.fit_transform(df[numerical_features])\n",
    "    elif scaler is not None:\n",
    "        df[numerical_features] = scaler.transform(df[numerical_features])\n",
    "\n",
    "    # Drop unnecessary columns\n",
    "    columns_to_drop = ['Feature_6', 'Feature_12', 'Feature_9']\n",
    "    df = df.drop([col for col in columns_to_drop if col in df.columns], axis=1)\n",
    "\n",
    "    return df, scaler\n"
   ]
  },
  {
   "cell_type": "code",
   "execution_count": 14,
   "id": "562810e9",
   "metadata": {
    "execution": {
     "iopub.execute_input": "2025-02-04T13:48:55.989012Z",
     "iopub.status.busy": "2025-02-04T13:48:55.988647Z",
     "iopub.status.idle": "2025-02-04T13:48:55.994309Z",
     "shell.execute_reply": "2025-02-04T13:48:55.993396Z"
    },
    "papermill": {
     "duration": 0.017095,
     "end_time": "2025-02-04T13:48:55.996219",
     "exception": false,
     "start_time": "2025-02-04T13:48:55.979124",
     "status": "completed"
    },
    "tags": []
   },
   "outputs": [],
   "source": [
    "def create_model(trial, input_features):\n",
    "    \"\"\"Create model with hyperparameters suggested by optuna\"\"\"\n",
    "    return tfdf.keras.GradientBoostedTreesModel(\n",
    "        verbose=0,\n",
    "        features=[tfdf.keras.FeatureUsage(name=n) for n in input_features],\n",
    "        exclude_non_specified_features=True,\n",
    "        min_examples=trial.suggest_int('min_examples', 5, 20),\n",
    "        categorical_algorithm=trial.suggest_categorical('categorical_algorithm', ['CART', 'RANDOM']),\n",
    "        num_trees=trial.suggest_int('num_trees', 200, 500),\n",
    "        shrinkage=trial.suggest_float('shrinkage', 0.01, 0.3, log=True),\n",
    "        max_depth=trial.suggest_int('max_depth', 3, 8),\n",
    "        validation_ratio=0.2,\n",
    "        random_seed=42\n",
    "    )\n"
   ]
  },
  {
   "cell_type": "code",
   "execution_count": 15,
   "id": "bef15228",
   "metadata": {
    "execution": {
     "iopub.execute_input": "2025-02-04T13:48:56.014723Z",
     "iopub.status.busy": "2025-02-04T13:48:56.014323Z",
     "iopub.status.idle": "2025-02-04T13:48:56.021241Z",
     "shell.execute_reply": "2025-02-04T13:48:56.020213Z"
    },
    "papermill": {
     "duration": 0.018039,
     "end_time": "2025-02-04T13:48:56.022962",
     "exception": false,
     "start_time": "2025-02-04T13:48:56.004923",
     "status": "completed"
    },
    "tags": []
   },
   "outputs": [],
   "source": [
    "def objective(trial, train_df, input_features):\n",
    "    \"\"\"Objective function for optuna optimization\"\"\"\n",
    "    n_folds = 5\n",
    "    skf = StratifiedKFold(n_splits=n_folds, shuffle=True, random_state=42)\n",
    "    scores = []\n",
    "\n",
    "    for train_idx, val_idx in skf.split(train_df, train_df['Target']):\n",
    "        train_fold = train_df.iloc[train_idx]\n",
    "        val_fold = train_df.iloc[val_idx]\n",
    "\n",
    "        train_ds = tfdf.keras.pd_dataframe_to_tf_dataset(train_fold, label=\"Target\")\n",
    "        val_ds = tfdf.keras.pd_dataframe_to_tf_dataset(val_fold, label=\"Target\")\n",
    "\n",
    "        model = create_model(trial, input_features)\n",
    "        model.fit(train_ds)\n",
    "\n",
    "        val_pred = model.predict(val_ds)\n",
    "        val_pred_classes = (val_pred[:, 0] >= 0.5).astype(int)\n",
    "        val_true = val_fold['Target'].values\n",
    "\n",
    "        accuracy = accuracy_score(val_true, val_pred_classes)\n",
    "        auc = roc_auc_score(val_true, val_pred[:, 0])\n",
    "        scores.append((accuracy + auc) / 2)\n",
    "\n",
    "    return np.mean(scores)\n"
   ]
  },
  {
   "cell_type": "code",
   "execution_count": 16,
   "id": "89f88cab",
   "metadata": {
    "execution": {
     "iopub.execute_input": "2025-02-04T13:48:56.041523Z",
     "iopub.status.busy": "2025-02-04T13:48:56.041168Z",
     "iopub.status.idle": "2025-02-04T13:56:36.108626Z",
     "shell.execute_reply": "2025-02-04T13:56:36.107595Z"
    },
    "papermill": {
     "duration": 460.078535,
     "end_time": "2025-02-04T13:56:36.110272",
     "exception": false,
     "start_time": "2025-02-04T13:48:56.031737",
     "status": "completed"
    },
    "tags": []
   },
   "outputs": [
    {
     "name": "stderr",
     "output_type": "stream",
     "text": [
      "[I 2025-02-04 13:48:56,090] A new study created in memory with name: no-name-7de49427-fb4a-4bb9-8dac-50eb676b9eab\n"
     ]
    },
    {
     "name": "stdout",
     "output_type": "stream",
     "text": [
      "1/1 [==============================] - 0s 63ms/step\n",
      "1/1 [==============================] - 0s 64ms/step\n",
      "1/1 [==============================] - 0s 65ms/step\n",
      "1/1 [==============================] - 0s 66ms/step\n",
      "1/1 [==============================] - 0s 64ms/step\n"
     ]
    },
    {
     "name": "stderr",
     "output_type": "stream",
     "text": [
      "[I 2025-02-04 13:49:11,842] Trial 0 finished with value: 0.9230773954576892 and parameters: {'min_examples': 11, 'categorical_algorithm': 'CART', 'num_trees': 472, 'shrinkage': 0.17869531569224154, 'max_depth': 8}. Best is trial 0 with value: 0.9230773954576892.\n"
     ]
    },
    {
     "name": "stdout",
     "output_type": "stream",
     "text": [
      "1/1 [==============================] - 0s 69ms/step\n",
      "1/1 [==============================] - 0s 70ms/step\n",
      "1/1 [==============================] - 0s 71ms/step\n",
      "1/1 [==============================] - 0s 70ms/step\n",
      "1/1 [==============================] - 0s 67ms/step\n"
     ]
    },
    {
     "name": "stderr",
     "output_type": "stream",
     "text": [
      "[I 2025-02-04 13:49:29,376] Trial 1 finished with value: 0.9240862494297326 and parameters: {'min_examples': 6, 'categorical_algorithm': 'CART', 'num_trees': 308, 'shrinkage': 0.06275961749500962, 'max_depth': 8}. Best is trial 1 with value: 0.9240862494297326.\n"
     ]
    },
    {
     "name": "stdout",
     "output_type": "stream",
     "text": [
      "1/1 [==============================] - 0s 66ms/step\n",
      "1/1 [==============================] - 0s 63ms/step\n",
      "1/1 [==============================] - 0s 62ms/step\n",
      "1/1 [==============================] - 0s 62ms/step\n",
      "1/1 [==============================] - 0s 65ms/step\n"
     ]
    },
    {
     "name": "stderr",
     "output_type": "stream",
     "text": [
      "[I 2025-02-04 13:49:38,146] Trial 2 finished with value: 0.859231523145146 and parameters: {'min_examples': 19, 'categorical_algorithm': 'CART', 'num_trees': 329, 'shrinkage': 0.02501989694849737, 'max_depth': 5}. Best is trial 1 with value: 0.9240862494297326.\n"
     ]
    },
    {
     "name": "stdout",
     "output_type": "stream",
     "text": [
      "1/1 [==============================] - 0s 61ms/step\n",
      "1/1 [==============================] - 0s 62ms/step\n",
      "1/1 [==============================] - 0s 64ms/step\n",
      "1/1 [==============================] - 0s 64ms/step\n",
      "1/1 [==============================] - 0s 69ms/step\n"
     ]
    },
    {
     "name": "stderr",
     "output_type": "stream",
     "text": [
      "[I 2025-02-04 13:49:45,233] Trial 3 finished with value: 0.9109187911158779 and parameters: {'min_examples': 10, 'categorical_algorithm': 'RANDOM', 'num_trees': 353, 'shrinkage': 0.11819563042258259, 'max_depth': 4}. Best is trial 1 with value: 0.9240862494297326.\n"
     ]
    },
    {
     "name": "stdout",
     "output_type": "stream",
     "text": [
      "1/1 [==============================] - 0s 64ms/step\n",
      "1/1 [==============================] - 0s 64ms/step\n",
      "1/1 [==============================] - 0s 62ms/step\n",
      "1/1 [==============================] - 0s 79ms/step\n",
      "1/1 [==============================] - 0s 64ms/step\n"
     ]
    },
    {
     "name": "stderr",
     "output_type": "stream",
     "text": [
      "[I 2025-02-04 13:49:57,678] Trial 4 finished with value: 0.8902899571292181 and parameters: {'min_examples': 19, 'categorical_algorithm': 'RANDOM', 'num_trees': 286, 'shrinkage': 0.03285423100283208, 'max_depth': 7}. Best is trial 1 with value: 0.9240862494297326.\n"
     ]
    },
    {
     "name": "stdout",
     "output_type": "stream",
     "text": [
      "1/1 [==============================] - 0s 63ms/step\n",
      "1/1 [==============================] - 0s 63ms/step\n",
      "1/1 [==============================] - 0s 62ms/step\n",
      "1/1 [==============================] - 0s 65ms/step\n",
      "1/1 [==============================] - 0s 65ms/step\n"
     ]
    },
    {
     "name": "stderr",
     "output_type": "stream",
     "text": [
      "[I 2025-02-04 13:50:08,831] Trial 5 finished with value: 0.9264010604302504 and parameters: {'min_examples': 12, 'categorical_algorithm': 'RANDOM', 'num_trees': 482, 'shrinkage': 0.14109697626488693, 'max_depth': 8}. Best is trial 5 with value: 0.9264010604302504.\n"
     ]
    },
    {
     "name": "stdout",
     "output_type": "stream",
     "text": [
      "1/1 [==============================] - 0s 64ms/step\n",
      "1/1 [==============================] - 0s 64ms/step\n",
      "1/1 [==============================] - 0s 65ms/step\n",
      "1/1 [==============================] - 0s 66ms/step\n",
      "1/1 [==============================] - 0s 66ms/step\n"
     ]
    },
    {
     "name": "stderr",
     "output_type": "stream",
     "text": [
      "[I 2025-02-04 13:50:19,646] Trial 6 finished with value: 0.8492538257395417 and parameters: {'min_examples': 12, 'categorical_algorithm': 'CART', 'num_trees': 249, 'shrinkage': 0.011666554827524272, 'max_depth': 6}. Best is trial 5 with value: 0.9264010604302504.\n"
     ]
    },
    {
     "name": "stdout",
     "output_type": "stream",
     "text": [
      "1/1 [==============================] - 0s 63ms/step\n",
      "1/1 [==============================] - 0s 63ms/step\n",
      "1/1 [==============================] - 0s 65ms/step\n",
      "1/1 [==============================] - 0s 61ms/step\n",
      "1/1 [==============================] - 0s 63ms/step\n"
     ]
    },
    {
     "name": "stderr",
     "output_type": "stream",
     "text": [
      "[I 2025-02-04 13:50:26,072] Trial 7 finished with value: 0.8346609192251229 and parameters: {'min_examples': 8, 'categorical_algorithm': 'CART', 'num_trees': 299, 'shrinkage': 0.015273815815048249, 'max_depth': 4}. Best is trial 5 with value: 0.9264010604302504.\n"
     ]
    },
    {
     "name": "stdout",
     "output_type": "stream",
     "text": [
      "1/1 [==============================] - 0s 62ms/step\n",
      "1/1 [==============================] - 0s 64ms/step\n",
      "1/1 [==============================] - 0s 63ms/step\n",
      "1/1 [==============================] - 0s 63ms/step\n",
      "1/1 [==============================] - 0s 62ms/step\n"
     ]
    },
    {
     "name": "stderr",
     "output_type": "stream",
     "text": [
      "[I 2025-02-04 13:50:33,713] Trial 8 finished with value: 0.8614752973295514 and parameters: {'min_examples': 5, 'categorical_algorithm': 'CART', 'num_trees': 255, 'shrinkage': 0.021781388391758444, 'max_depth': 5}. Best is trial 5 with value: 0.9264010604302504.\n"
     ]
    },
    {
     "name": "stdout",
     "output_type": "stream",
     "text": [
      "1/1 [==============================] - 0s 64ms/step\n",
      "1/1 [==============================] - 0s 62ms/step\n",
      "1/1 [==============================] - 0s 68ms/step\n",
      "1/1 [==============================] - 0s 61ms/step\n",
      "1/1 [==============================] - 0s 62ms/step\n"
     ]
    },
    {
     "name": "stderr",
     "output_type": "stream",
     "text": [
      "[I 2025-02-04 13:50:38,811] Trial 9 finished with value: 0.8736343615745433 and parameters: {'min_examples': 12, 'categorical_algorithm': 'CART', 'num_trees': 275, 'shrinkage': 0.14016256303874539, 'max_depth': 3}. Best is trial 5 with value: 0.9264010604302504.\n"
     ]
    },
    {
     "name": "stdout",
     "output_type": "stream",
     "text": [
      "1/1 [==============================] - 0s 62ms/step\n",
      "1/1 [==============================] - 0s 62ms/step\n",
      "1/1 [==============================] - 0s 62ms/step\n",
      "1/1 [==============================] - 0s 62ms/step\n",
      "1/1 [==============================] - 0s 63ms/step\n"
     ]
    },
    {
     "name": "stderr",
     "output_type": "stream",
     "text": [
      "[I 2025-02-04 13:50:47,018] Trial 10 finished with value: 0.9269054291740672 and parameters: {'min_examples': 16, 'categorical_algorithm': 'RANDOM', 'num_trees': 490, 'shrinkage': 0.2891236603225962, 'max_depth': 7}. Best is trial 10 with value: 0.9269054291740672.\n"
     ]
    },
    {
     "name": "stdout",
     "output_type": "stream",
     "text": [
      "1/1 [==============================] - 0s 66ms/step\n",
      "1/1 [==============================] - 0s 62ms/step\n",
      "1/1 [==============================] - 0s 61ms/step\n",
      "1/1 [==============================] - 0s 63ms/step\n",
      "1/1 [==============================] - 0s 87ms/step\n"
     ]
    },
    {
     "name": "stderr",
     "output_type": "stream",
     "text": [
      "[I 2025-02-04 13:50:55,501] Trial 11 finished with value: 0.9261981299011823 and parameters: {'min_examples': 16, 'categorical_algorithm': 'RANDOM', 'num_trees': 497, 'shrinkage': 0.2965378358545961, 'max_depth': 7}. Best is trial 10 with value: 0.9269054291740672.\n"
     ]
    },
    {
     "name": "stdout",
     "output_type": "stream",
     "text": [
      "1/1 [==============================] - 0s 71ms/step\n",
      "1/1 [==============================] - 0s 70ms/step\n",
      "1/1 [==============================] - 0s 65ms/step\n",
      "1/1 [==============================] - 0s 66ms/step\n",
      "1/1 [==============================] - 0s 65ms/step\n"
     ]
    },
    {
     "name": "stderr",
     "output_type": "stream",
     "text": [
      "[I 2025-02-04 13:51:04,068] Trial 12 finished with value: 0.9290782387125265 and parameters: {'min_examples': 15, 'categorical_algorithm': 'RANDOM', 'num_trees': 427, 'shrinkage': 0.29429915239938403, 'max_depth': 7}. Best is trial 12 with value: 0.9290782387125265.\n"
     ]
    },
    {
     "name": "stdout",
     "output_type": "stream",
     "text": [
      "1/1 [==============================] - 0s 65ms/step\n",
      "1/1 [==============================] - 0s 63ms/step\n",
      "1/1 [==============================] - 0s 62ms/step\n",
      "1/1 [==============================] - 0s 63ms/step\n",
      "1/1 [==============================] - 0s 63ms/step\n"
     ]
    },
    {
     "name": "stderr",
     "output_type": "stream",
     "text": [
      "[I 2025-02-04 13:51:12,091] Trial 13 finished with value: 0.9279497864331369 and parameters: {'min_examples': 15, 'categorical_algorithm': 'RANDOM', 'num_trees': 421, 'shrinkage': 0.2891866690195421, 'max_depth': 7}. Best is trial 12 with value: 0.9290782387125265.\n"
     ]
    },
    {
     "name": "stdout",
     "output_type": "stream",
     "text": [
      "1/1 [==============================] - 0s 63ms/step\n",
      "1/1 [==============================] - 0s 64ms/step\n",
      "1/1 [==============================] - 0s 61ms/step\n",
      "1/1 [==============================] - 0s 63ms/step\n",
      "1/1 [==============================] - 0s 62ms/step\n"
     ]
    },
    {
     "name": "stderr",
     "output_type": "stream",
     "text": [
      "[I 2025-02-04 13:51:23,671] Trial 14 finished with value: 0.9248534669270709 and parameters: {'min_examples': 16, 'categorical_algorithm': 'RANDOM', 'num_trees': 410, 'shrinkage': 0.08561819543070066, 'max_depth': 6}. Best is trial 12 with value: 0.9290782387125265.\n"
     ]
    },
    {
     "name": "stdout",
     "output_type": "stream",
     "text": [
      "1/1 [==============================] - 0s 62ms/step\n",
      "1/1 [==============================] - 0s 62ms/step\n",
      "1/1 [==============================] - 0s 62ms/step\n",
      "1/1 [==============================] - 0s 62ms/step\n",
      "1/1 [==============================] - 0s 61ms/step\n"
     ]
    },
    {
     "name": "stderr",
     "output_type": "stream",
     "text": [
      "[I 2025-02-04 13:51:32,796] Trial 15 finished with value: 0.9279129253900417 and parameters: {'min_examples': 14, 'categorical_algorithm': 'RANDOM', 'num_trees': 412, 'shrinkage': 0.20823809963088893, 'max_depth': 7}. Best is trial 12 with value: 0.9290782387125265.\n"
     ]
    },
    {
     "name": "stdout",
     "output_type": "stream",
     "text": [
      "1/1 [==============================] - 0s 64ms/step\n",
      "1/1 [==============================] - 0s 64ms/step\n",
      "1/1 [==============================] - 0s 65ms/step\n",
      "1/1 [==============================] - 0s 65ms/step\n",
      "1/1 [==============================] - 0s 66ms/step\n"
     ]
    },
    {
     "name": "stderr",
     "output_type": "stream",
     "text": [
      "[I 2025-02-04 13:51:45,087] Trial 16 finished with value: 0.915009244888845 and parameters: {'min_examples': 14, 'categorical_algorithm': 'RANDOM', 'num_trees': 403, 'shrinkage': 0.05163599339923828, 'max_depth': 6}. Best is trial 12 with value: 0.9290782387125265.\n"
     ]
    },
    {
     "name": "stdout",
     "output_type": "stream",
     "text": [
      "1/1 [==============================] - 0s 71ms/step\n",
      "1/1 [==============================] - 0s 66ms/step\n",
      "1/1 [==============================] - 0s 64ms/step\n",
      "1/1 [==============================] - 0s 63ms/step\n",
      "1/1 [==============================] - 0s 86ms/step\n"
     ]
    },
    {
     "name": "stderr",
     "output_type": "stream",
     "text": [
      "[I 2025-02-04 13:51:55,477] Trial 17 finished with value: 0.9142037732692678 and parameters: {'min_examples': 17, 'categorical_algorithm': 'RANDOM', 'num_trees': 208, 'shrinkage': 0.0919083826109694, 'max_depth': 7}. Best is trial 12 with value: 0.9290782387125265.\n"
     ]
    },
    {
     "name": "stdout",
     "output_type": "stream",
     "text": [
      "1/1 [==============================] - 0s 65ms/step\n",
      "1/1 [==============================] - 0s 75ms/step\n",
      "1/1 [==============================] - 0s 61ms/step\n",
      "1/1 [==============================] - 0s 66ms/step\n",
      "1/1 [==============================] - 0s 65ms/step\n"
     ]
    },
    {
     "name": "stderr",
     "output_type": "stream",
     "text": [
      "[I 2025-02-04 13:52:04,812] Trial 18 finished with value: 0.9276593305886387 and parameters: {'min_examples': 14, 'categorical_algorithm': 'RANDOM', 'num_trees': 372, 'shrinkage': 0.21390088289073914, 'max_depth': 8}. Best is trial 12 with value: 0.9290782387125265.\n"
     ]
    },
    {
     "name": "stdout",
     "output_type": "stream",
     "text": [
      "1/1 [==============================] - 0s 63ms/step\n",
      "1/1 [==============================] - 0s 66ms/step\n",
      "1/1 [==============================] - 0s 64ms/step\n",
      "1/1 [==============================] - 0s 67ms/step\n",
      "1/1 [==============================] - 0s 66ms/step\n"
     ]
    },
    {
     "name": "stderr",
     "output_type": "stream",
     "text": [
      "[I 2025-02-04 13:52:17,207] Trial 19 finished with value: 0.9091982193322758 and parameters: {'min_examples': 20, 'categorical_algorithm': 'RANDOM', 'num_trees': 435, 'shrinkage': 0.05078626659135641, 'max_depth': 6}. Best is trial 12 with value: 0.9290782387125265.\n"
     ]
    },
    {
     "name": "stdout",
     "output_type": "stream",
     "text": [
      "1/1 [==============================] - 0s 62ms/step\n",
      "1/1 [==============================] - 0s 62ms/step\n",
      "1/1 [==============================] - 0s 66ms/step\n",
      "1/1 [==============================] - 0s 63ms/step\n",
      "1/1 [==============================] - 0s 64ms/step\n"
     ]
    },
    {
     "name": "stderr",
     "output_type": "stream",
     "text": [
      "[I 2025-02-04 13:52:24,641] Trial 20 finished with value: 0.9349467667107009 and parameters: {'min_examples': 9, 'categorical_algorithm': 'RANDOM', 'num_trees': 448, 'shrinkage': 0.2961566372515601, 'max_depth': 5}. Best is trial 20 with value: 0.9349467667107009.\n"
     ]
    },
    {
     "name": "stdout",
     "output_type": "stream",
     "text": [
      "1/1 [==============================] - 0s 61ms/step\n",
      "1/1 [==============================] - 0s 63ms/step\n",
      "1/1 [==============================] - 0s 63ms/step\n",
      "1/1 [==============================] - 0s 62ms/step\n",
      "1/1 [==============================] - 0s 61ms/step\n"
     ]
    },
    {
     "name": "stderr",
     "output_type": "stream",
     "text": [
      "[I 2025-02-04 13:52:31,656] Trial 21 finished with value: 0.9317482564248142 and parameters: {'min_examples': 8, 'categorical_algorithm': 'RANDOM', 'num_trees': 451, 'shrinkage': 0.28876005154711865, 'max_depth': 5}. Best is trial 20 with value: 0.9349467667107009.\n"
     ]
    },
    {
     "name": "stdout",
     "output_type": "stream",
     "text": [
      "1/1 [==============================] - 0s 67ms/step\n",
      "1/1 [==============================] - 0s 63ms/step\n",
      "1/1 [==============================] - 0s 62ms/step\n",
      "1/1 [==============================] - 0s 61ms/step\n",
      "1/1 [==============================] - 0s 77ms/step\n"
     ]
    },
    {
     "name": "stderr",
     "output_type": "stream",
     "text": [
      "[I 2025-02-04 13:52:41,663] Trial 22 finished with value: 0.9324314767212405 and parameters: {'min_examples': 9, 'categorical_algorithm': 'RANDOM', 'num_trees': 453, 'shrinkage': 0.1947083073178404, 'max_depth': 5}. Best is trial 20 with value: 0.9349467667107009.\n"
     ]
    },
    {
     "name": "stdout",
     "output_type": "stream",
     "text": [
      "1/1 [==============================] - 0s 69ms/step\n",
      "1/1 [==============================] - 0s 65ms/step\n",
      "1/1 [==============================] - 0s 66ms/step\n",
      "1/1 [==============================] - 0s 64ms/step\n",
      "1/1 [==============================] - 0s 69ms/step\n"
     ]
    },
    {
     "name": "stderr",
     "output_type": "stream",
     "text": [
      "[I 2025-02-04 13:52:49,913] Trial 23 finished with value: 0.9342235589589757 and parameters: {'min_examples': 8, 'categorical_algorithm': 'RANDOM', 'num_trees': 461, 'shrinkage': 0.19256725458694646, 'max_depth': 4}. Best is trial 20 with value: 0.9349467667107009.\n"
     ]
    },
    {
     "name": "stdout",
     "output_type": "stream",
     "text": [
      "1/1 [==============================] - 0s 65ms/step\n",
      "1/1 [==============================] - 0s 64ms/step\n",
      "1/1 [==============================] - 0s 63ms/step\n",
      "1/1 [==============================] - 0s 62ms/step\n",
      "1/1 [==============================] - 0s 62ms/step\n"
     ]
    },
    {
     "name": "stderr",
     "output_type": "stream",
     "text": [
      "[I 2025-02-04 13:52:57,971] Trial 24 finished with value: 0.9315465248531052 and parameters: {'min_examples': 9, 'categorical_algorithm': 'RANDOM', 'num_trees': 456, 'shrinkage': 0.1827320675890463, 'max_depth': 4}. Best is trial 20 with value: 0.9349467667107009.\n"
     ]
    },
    {
     "name": "stdout",
     "output_type": "stream",
     "text": [
      "1/1 [==============================] - 0s 61ms/step\n",
      "1/1 [==============================] - 0s 62ms/step\n",
      "1/1 [==============================] - 0s 63ms/step\n",
      "1/1 [==============================] - 0s 61ms/step\n",
      "1/1 [==============================] - 0s 62ms/step\n"
     ]
    },
    {
     "name": "stderr",
     "output_type": "stream",
     "text": [
      "[I 2025-02-04 13:53:03,780] Trial 25 finished with value: 0.8808169479616847 and parameters: {'min_examples': 7, 'categorical_algorithm': 'RANDOM', 'num_trees': 387, 'shrinkage': 0.11279658601125184, 'max_depth': 3}. Best is trial 20 with value: 0.9349467667107009.\n"
     ]
    },
    {
     "name": "stdout",
     "output_type": "stream",
     "text": [
      "1/1 [==============================] - 0s 77ms/step\n",
      "1/1 [==============================] - 0s 66ms/step\n",
      "1/1 [==============================] - 0s 64ms/step\n",
      "1/1 [==============================] - 0s 64ms/step\n",
      "1/1 [==============================] - 0s 62ms/step\n"
     ]
    },
    {
     "name": "stderr",
     "output_type": "stream",
     "text": [
      "[I 2025-02-04 13:53:11,958] Trial 26 finished with value: 0.9329521777725471 and parameters: {'min_examples': 10, 'categorical_algorithm': 'RANDOM', 'num_trees': 455, 'shrinkage': 0.20974036459317447, 'max_depth': 4}. Best is trial 20 with value: 0.9349467667107009.\n"
     ]
    },
    {
     "name": "stdout",
     "output_type": "stream",
     "text": [
      "1/1 [==============================] - 0s 62ms/step\n",
      "1/1 [==============================] - 0s 69ms/step\n",
      "1/1 [==============================] - 0s 62ms/step\n",
      "1/1 [==============================] - 0s 64ms/step\n",
      "1/1 [==============================] - 0s 61ms/step\n"
     ]
    },
    {
     "name": "stderr",
     "output_type": "stream",
     "text": [
      "[I 2025-02-04 13:53:20,372] Trial 27 finished with value: 0.9037581808784317 and parameters: {'min_examples': 10, 'categorical_algorithm': 'RANDOM', 'num_trees': 469, 'shrinkage': 0.07273128248585092, 'max_depth': 4}. Best is trial 20 with value: 0.9349467667107009.\n"
     ]
    },
    {
     "name": "stdout",
     "output_type": "stream",
     "text": [
      "1/1 [==============================] - 0s 62ms/step\n",
      "1/1 [==============================] - 0s 65ms/step\n",
      "1/1 [==============================] - 0s 61ms/step\n",
      "1/1 [==============================] - 0s 62ms/step\n",
      "1/1 [==============================] - 0s 60ms/step\n"
     ]
    },
    {
     "name": "stderr",
     "output_type": "stream",
     "text": [
      "[I 2025-02-04 13:53:26,120] Trial 28 finished with value: 0.8886010550176877 and parameters: {'min_examples': 7, 'categorical_algorithm': 'RANDOM', 'num_trees': 373, 'shrinkage': 0.14727574373007193, 'max_depth': 3}. Best is trial 20 with value: 0.9349467667107009.\n"
     ]
    },
    {
     "name": "stdout",
     "output_type": "stream",
     "text": [
      "1/1 [==============================] - 0s 62ms/step\n",
      "1/1 [==============================] - 0s 63ms/step\n",
      "1/1 [==============================] - 0s 62ms/step\n",
      "1/1 [==============================] - 0s 63ms/step\n",
      "1/1 [==============================] - 0s 99ms/step\n"
     ]
    },
    {
     "name": "stderr",
     "output_type": "stream",
     "text": [
      "[I 2025-02-04 13:53:35,094] Trial 29 finished with value: 0.931512753556883 and parameters: {'min_examples': 11, 'categorical_algorithm': 'RANDOM', 'num_trees': 469, 'shrinkage': 0.21907489293953689, 'max_depth': 4}. Best is trial 20 with value: 0.9349467667107009.\n"
     ]
    },
    {
     "name": "stdout",
     "output_type": "stream",
     "text": [
      "1/1 [==============================] - 0s 70ms/step\n",
      "1/1 [==============================] - 0s 66ms/step\n",
      "1/1 [==============================] - 0s 66ms/step\n",
      "1/1 [==============================] - 0s 64ms/step\n",
      "1/1 [==============================] - 0s 65ms/step\n"
     ]
    },
    {
     "name": "stderr",
     "output_type": "stream",
     "text": [
      "[I 2025-02-04 13:53:43,430] Trial 30 finished with value: 0.931658814672174 and parameters: {'min_examples': 5, 'categorical_algorithm': 'RANDOM', 'num_trees': 431, 'shrinkage': 0.16762874897870583, 'max_depth': 4}. Best is trial 20 with value: 0.9349467667107009.\n"
     ]
    },
    {
     "name": "stdout",
     "output_type": "stream",
     "text": [
      "1/1 [==============================] - 0s 65ms/step\n",
      "1/1 [==============================] - 0s 64ms/step\n",
      "1/1 [==============================] - 0s 63ms/step\n",
      "1/1 [==============================] - 0s 63ms/step\n",
      "1/1 [==============================] - 0s 62ms/step\n"
     ]
    },
    {
     "name": "stderr",
     "output_type": "stream",
     "text": [
      "[I 2025-02-04 13:53:51,709] Trial 31 finished with value: 0.9345630698102185 and parameters: {'min_examples': 9, 'categorical_algorithm': 'RANDOM', 'num_trees': 449, 'shrinkage': 0.22537074214310898, 'max_depth': 5}. Best is trial 20 with value: 0.9349467667107009.\n"
     ]
    },
    {
     "name": "stdout",
     "output_type": "stream",
     "text": [
      "1/1 [==============================] - 0s 62ms/step\n",
      "1/1 [==============================] - 0s 63ms/step\n",
      "1/1 [==============================] - 0s 62ms/step\n",
      "1/1 [==============================] - 0s 62ms/step\n",
      "1/1 [==============================] - 0s 62ms/step\n"
     ]
    },
    {
     "name": "stderr",
     "output_type": "stream",
     "text": [
      "[I 2025-02-04 13:53:59,847] Trial 32 finished with value: 0.9305565024647242 and parameters: {'min_examples': 10, 'categorical_algorithm': 'RANDOM', 'num_trees': 449, 'shrinkage': 0.2300819711219472, 'max_depth': 5}. Best is trial 20 with value: 0.9349467667107009.\n"
     ]
    },
    {
     "name": "stdout",
     "output_type": "stream",
     "text": [
      "1/1 [==============================] - 0s 62ms/step\n",
      "1/1 [==============================] - 0s 63ms/step\n",
      "1/1 [==============================] - 0s 63ms/step\n",
      "1/1 [==============================] - 0s 64ms/step\n",
      "1/1 [==============================] - 0s 69ms/step\n"
     ]
    },
    {
     "name": "stderr",
     "output_type": "stream",
     "text": [
      "[I 2025-02-04 13:54:10,883] Trial 33 finished with value: 0.9345963772265208 and parameters: {'min_examples': 8, 'categorical_algorithm': 'RANDOM', 'num_trees': 500, 'shrinkage': 0.10923161669040148, 'max_depth': 5}. Best is trial 20 with value: 0.9349467667107009.\n"
     ]
    },
    {
     "name": "stdout",
     "output_type": "stream",
     "text": [
      "1/1 [==============================] - 0s 67ms/step\n",
      "1/1 [==============================] - 0s 65ms/step\n",
      "1/1 [==============================] - 0s 62ms/step\n",
      "1/1 [==============================] - 0s 62ms/step\n",
      "1/1 [==============================] - 0s 63ms/step\n"
     ]
    },
    {
     "name": "stderr",
     "output_type": "stream",
     "text": [
      "[I 2025-02-04 13:54:21,437] Trial 34 finished with value: 0.9305646276998771 and parameters: {'min_examples': 7, 'categorical_algorithm': 'CART', 'num_trees': 496, 'shrinkage': 0.1065817345395521, 'max_depth': 5}. Best is trial 20 with value: 0.9349467667107009.\n"
     ]
    },
    {
     "name": "stdout",
     "output_type": "stream",
     "text": [
      "1/1 [==============================] - 0s 66ms/step\n",
      "1/1 [==============================] - 0s 63ms/step\n",
      "1/1 [==============================] - 0s 62ms/step\n",
      "1/1 [==============================] - 0s 65ms/step\n",
      "1/1 [==============================] - 0s 62ms/step\n"
     ]
    },
    {
     "name": "stderr",
     "output_type": "stream",
     "text": [
      "[I 2025-02-04 13:54:30,493] Trial 35 finished with value: 0.9324164648601785 and parameters: {'min_examples': 6, 'categorical_algorithm': 'RANDOM', 'num_trees': 474, 'shrinkage': 0.16719922420406755, 'max_depth': 5}. Best is trial 20 with value: 0.9349467667107009.\n"
     ]
    },
    {
     "name": "stdout",
     "output_type": "stream",
     "text": [
      "1/1 [==============================] - 0s 63ms/step\n",
      "1/1 [==============================] - 0s 65ms/step\n",
      "1/1 [==============================] - 0s 67ms/step\n",
      "1/1 [==============================] - 0s 62ms/step\n",
      "1/1 [==============================] - 0s 63ms/step\n"
     ]
    },
    {
     "name": "stderr",
     "output_type": "stream",
     "text": [
      "[I 2025-02-04 13:54:40,967] Trial 36 finished with value: 0.9339923434793237 and parameters: {'min_examples': 8, 'categorical_algorithm': 'RANDOM', 'num_trees': 500, 'shrinkage': 0.13765041151390423, 'max_depth': 5}. Best is trial 20 with value: 0.9349467667107009.\n"
     ]
    },
    {
     "name": "stdout",
     "output_type": "stream",
     "text": [
      "1/1 [==============================] - 0s 64ms/step\n",
      "1/1 [==============================] - 0s 61ms/step\n",
      "1/1 [==============================] - 0s 62ms/step\n",
      "1/1 [==============================] - 0s 74ms/step\n",
      "1/1 [==============================] - 0s 69ms/step\n"
     ]
    },
    {
     "name": "stderr",
     "output_type": "stream",
     "text": [
      "[I 2025-02-04 13:54:53,953] Trial 37 finished with value: 0.9029286980714428 and parameters: {'min_examples': 9, 'categorical_algorithm': 'CART', 'num_trees': 334, 'shrinkage': 0.03643536964118275, 'max_depth': 6}. Best is trial 20 with value: 0.9349467667107009.\n"
     ]
    },
    {
     "name": "stdout",
     "output_type": "stream",
     "text": [
      "1/1 [==============================] - 0s 67ms/step\n",
      "1/1 [==============================] - 0s 66ms/step\n",
      "1/1 [==============================] - 0s 64ms/step\n",
      "1/1 [==============================] - 0s 64ms/step\n",
      "1/1 [==============================] - 0s 64ms/step\n"
     ]
    },
    {
     "name": "stderr",
     "output_type": "stream",
     "text": [
      "[I 2025-02-04 13:55:02,128] Trial 38 finished with value: 0.9340258722674454 and parameters: {'min_examples': 6, 'categorical_algorithm': 'RANDOM', 'num_trees': 480, 'shrinkage': 0.2385957570814433, 'max_depth': 4}. Best is trial 20 with value: 0.9349467667107009.\n"
     ]
    },
    {
     "name": "stdout",
     "output_type": "stream",
     "text": [
      "1/1 [==============================] - 0s 64ms/step\n",
      "1/1 [==============================] - 0s 70ms/step\n",
      "1/1 [==============================] - 0s 64ms/step\n",
      "1/1 [==============================] - 0s 66ms/step\n",
      "1/1 [==============================] - 0s 63ms/step\n"
     ]
    },
    {
     "name": "stderr",
     "output_type": "stream",
     "text": [
      "[I 2025-02-04 13:55:12,727] Trial 39 finished with value: 0.9182810061135875 and parameters: {'min_examples': 11, 'categorical_algorithm': 'RANDOM', 'num_trees': 440, 'shrinkage': 0.06809909080186842, 'max_depth': 5}. Best is trial 20 with value: 0.9349467667107009.\n"
     ]
    },
    {
     "name": "stdout",
     "output_type": "stream",
     "text": [
      "1/1 [==============================] - 0s 70ms/step\n",
      "1/1 [==============================] - 0s 66ms/step\n",
      "1/1 [==============================] - 0s 66ms/step\n",
      "1/1 [==============================] - 0s 64ms/step\n",
      "1/1 [==============================] - 0s 62ms/step\n"
     ]
    },
    {
     "name": "stderr",
     "output_type": "stream",
     "text": [
      "[I 2025-02-04 13:55:24,033] Trial 40 finished with value: 0.9310673732021275 and parameters: {'min_examples': 6, 'categorical_algorithm': 'CART', 'num_trees': 400, 'shrinkage': 0.1276161260924586, 'max_depth': 6}. Best is trial 20 with value: 0.9349467667107009.\n"
     ]
    },
    {
     "name": "stdout",
     "output_type": "stream",
     "text": [
      "1/1 [==============================] - 0s 63ms/step\n",
      "1/1 [==============================] - 0s 71ms/step\n",
      "1/1 [==============================] - 0s 63ms/step\n",
      "1/1 [==============================] - 0s 64ms/step\n",
      "1/1 [==============================] - 0s 63ms/step\n"
     ]
    },
    {
     "name": "stderr",
     "output_type": "stream",
     "text": [
      "[I 2025-02-04 13:55:31,687] Trial 41 finished with value: 0.9328773127485294 and parameters: {'min_examples': 6, 'categorical_algorithm': 'RANDOM', 'num_trees': 481, 'shrinkage': 0.2517488959653346, 'max_depth': 4}. Best is trial 20 with value: 0.9349467667107009.\n"
     ]
    },
    {
     "name": "stdout",
     "output_type": "stream",
     "text": [
      "1/1 [==============================] - 0s 64ms/step\n",
      "1/1 [==============================] - 0s 62ms/step\n",
      "1/1 [==============================] - 0s 62ms/step\n",
      "1/1 [==============================] - 0s 64ms/step\n",
      "1/1 [==============================] - 0s 63ms/step\n"
     ]
    },
    {
     "name": "stderr",
     "output_type": "stream",
     "text": [
      "[I 2025-02-04 13:55:39,423] Trial 42 finished with value: 0.9330070723884918 and parameters: {'min_examples': 8, 'categorical_algorithm': 'RANDOM', 'num_trees': 476, 'shrinkage': 0.25116340738586107, 'max_depth': 4}. Best is trial 20 with value: 0.9349467667107009.\n"
     ]
    },
    {
     "name": "stdout",
     "output_type": "stream",
     "text": [
      "1/1 [==============================] - 0s 62ms/step\n",
      "1/1 [==============================] - 0s 61ms/step\n",
      "1/1 [==============================] - 0s 62ms/step\n",
      "1/1 [==============================] - 0s 64ms/step\n",
      "1/1 [==============================] - 0s 72ms/step\n"
     ]
    },
    {
     "name": "stderr",
     "output_type": "stream",
     "text": [
      "[I 2025-02-04 13:55:45,935] Trial 43 finished with value: 0.8999734953773355 and parameters: {'min_examples': 5, 'categorical_algorithm': 'RANDOM', 'num_trees': 470, 'shrinkage': 0.1592854385290569, 'max_depth': 3}. Best is trial 20 with value: 0.9349467667107009.\n"
     ]
    },
    {
     "name": "stdout",
     "output_type": "stream",
     "text": [
      "1/1 [==============================] - 0s 62ms/step\n",
      "1/1 [==============================] - 0s 68ms/step\n",
      "1/1 [==============================] - 0s 62ms/step\n",
      "1/1 [==============================] - 0s 63ms/step\n",
      "1/1 [==============================] - 0s 61ms/step\n"
     ]
    },
    {
     "name": "stderr",
     "output_type": "stream",
     "text": [
      "[I 2025-02-04 13:55:55,123] Trial 44 finished with value: 0.9334734581741989 and parameters: {'min_examples': 7, 'categorical_algorithm': 'RANDOM', 'num_trees': 484, 'shrinkage': 0.1825504799302519, 'max_depth': 5}. Best is trial 20 with value: 0.9349467667107009.\n"
     ]
    },
    {
     "name": "stdout",
     "output_type": "stream",
     "text": [
      "1/1 [==============================] - 0s 63ms/step\n",
      "1/1 [==============================] - 0s 63ms/step\n",
      "1/1 [==============================] - 0s 87ms/step\n",
      "1/1 [==============================] - 0s 69ms/step\n",
      "1/1 [==============================] - 0s 66ms/step\n"
     ]
    },
    {
     "name": "stderr",
     "output_type": "stream",
     "text": [
      "[I 2025-02-04 13:56:03,872] Trial 45 finished with value: 0.9325962211702501 and parameters: {'min_examples': 9, 'categorical_algorithm': 'RANDOM', 'num_trees': 464, 'shrinkage': 0.22851658463112265, 'max_depth': 4}. Best is trial 20 with value: 0.9349467667107009.\n"
     ]
    },
    {
     "name": "stdout",
     "output_type": "stream",
     "text": [
      "1/1 [==============================] - 0s 68ms/step\n",
      "1/1 [==============================] - 0s 65ms/step\n",
      "1/1 [==============================] - 0s 66ms/step\n",
      "1/1 [==============================] - 0s 64ms/step\n",
      "1/1 [==============================] - 0s 65ms/step\n"
     ]
    },
    {
     "name": "stderr",
     "output_type": "stream",
     "text": [
      "[I 2025-02-04 13:56:13,521] Trial 46 finished with value: 0.927505662166787 and parameters: {'min_examples': 8, 'categorical_algorithm': 'CART', 'num_trees': 440, 'shrinkage': 0.0980922274314668, 'max_depth': 5}. Best is trial 20 with value: 0.9349467667107009.\n"
     ]
    },
    {
     "name": "stdout",
     "output_type": "stream",
     "text": [
      "1/1 [==============================] - 0s 65ms/step\n",
      "1/1 [==============================] - 0s 64ms/step\n",
      "1/1 [==============================] - 0s 65ms/step\n",
      "1/1 [==============================] - 0s 66ms/step\n",
      "1/1 [==============================] - 0s 63ms/step\n"
     ]
    },
    {
     "name": "stderr",
     "output_type": "stream",
     "text": [
      "[I 2025-02-04 13:56:21,549] Trial 47 finished with value: 0.9358790621386481 and parameters: {'min_examples': 7, 'categorical_algorithm': 'RANDOM', 'num_trees': 484, 'shrinkage': 0.2541616171463405, 'max_depth': 4}. Best is trial 47 with value: 0.9358790621386481.\n"
     ]
    },
    {
     "name": "stdout",
     "output_type": "stream",
     "text": [
      "1/1 [==============================] - 0s 62ms/step\n",
      "1/1 [==============================] - 0s 64ms/step\n",
      "1/1 [==============================] - 0s 64ms/step\n",
      "1/1 [==============================] - 0s 64ms/step\n",
      "1/1 [==============================] - 0s 63ms/step\n"
     ]
    },
    {
     "name": "stderr",
     "output_type": "stream",
     "text": [
      "[I 2025-02-04 13:56:29,404] Trial 48 finished with value: 0.930002199364384 and parameters: {'min_examples': 10, 'categorical_algorithm': 'RANDOM', 'num_trees': 418, 'shrinkage': 0.2566191180645731, 'max_depth': 5}. Best is trial 47 with value: 0.9358790621386481.\n"
     ]
    },
    {
     "name": "stdout",
     "output_type": "stream",
     "text": [
      "1/1 [==============================] - 0s 66ms/step\n",
      "1/1 [==============================] - 0s 65ms/step\n",
      "1/1 [==============================] - 0s 66ms/step\n",
      "1/1 [==============================] - 0s 62ms/step\n",
      "1/1 [==============================] - 0s 62ms/step\n"
     ]
    },
    {
     "name": "stderr",
     "output_type": "stream",
     "text": [
      "[I 2025-02-04 13:56:36,103] Trial 49 finished with value: 0.8895569708406976 and parameters: {'min_examples': 11, 'categorical_algorithm': 'RANDOM', 'num_trees': 491, 'shrinkage': 0.1231013508199964, 'max_depth': 3}. Best is trial 47 with value: 0.9358790621386481.\n"
     ]
    },
    {
     "name": "stdout",
     "output_type": "stream",
     "text": [
      "Best hyperparameters: {'min_examples': 7, 'categorical_algorithm': 'RANDOM', 'num_trees': 484, 'shrinkage': 0.2541616171463405, 'max_depth': 4}\n",
      "Best score: 0.9358790621386481\n"
     ]
    }
   ],
   "source": [
    "# Load data\n",
    "train_df = pd.read_csv(\"/kaggle/input/d/samyakjain2052/new-data/combine_data_final.csv\")\n",
    "serving_df = pd.read_csv(\"/kaggle/input/d/samyakjain2052/new-data/test_data.csv\")\n",
    "\n",
    "# Preprocess training data\n",
    "preprocessed_train_df, scaler = preprocess(train_df, is_training=True)\n",
    "\n",
    "# Define feature set\n",
    "input_features = [\n",
    "    'Feature_5', 'Feature_16', 'Feature_10', 'Feature_11', 'Feature_13', 'Feature_15', 'Feature_1',\n",
    "    'Feature_17', 'Feature_18', 'Feature_19', 'Feature_20',\n",
    "    'Feature_23', 'Feature_21', 'Feature_22', 'Feature_24'\n",
    "]\n",
    "\n",
    "# Run hyperparameter optimization\n",
    "study = optuna.create_study(direction='maximize')\n",
    "objective_with_params = partial(objective, train_df=preprocessed_train_df, input_features=input_features)\n",
    "study.optimize(objective_with_params, n_trials=50)\n",
    "\n",
    "print(\"Best hyperparameters:\", study.best_params)\n",
    "print(\"Best score:\", study.best_value)\n"
   ]
  },
  {
   "cell_type": "code",
   "execution_count": null,
   "id": "043d4979",
   "metadata": {
    "papermill": {
     "duration": 0.037001,
     "end_time": "2025-02-04T13:56:36.184296",
     "exception": false,
     "start_time": "2025-02-04T13:56:36.147295",
     "status": "completed"
    },
    "tags": []
   },
   "outputs": [],
   "source": []
  }
 ],
 "metadata": {
  "kaggle": {
   "accelerator": "none",
   "dataSources": [
    {
     "datasetId": 6588680,
     "sourceId": 10641404,
     "sourceType": "datasetVersion"
    },
    {
     "datasetId": 6600908,
     "sourceId": 10659344,
     "sourceType": "datasetVersion"
    },
    {
     "datasetId": 6601793,
     "sourceId": 10660507,
     "sourceType": "datasetVersion"
    }
   ],
   "dockerImageVersionId": 30839,
   "isGpuEnabled": false,
   "isInternetEnabled": true,
   "language": "python",
   "sourceType": "notebook"
  },
  "kernelspec": {
   "display_name": "Python 3",
   "language": "python",
   "name": "python3"
  },
  "language_info": {
   "codemirror_mode": {
    "name": "ipython",
    "version": 3
   },
   "file_extension": ".py",
   "mimetype": "text/x-python",
   "name": "python",
   "nbconvert_exporter": "python",
   "pygments_lexer": "ipython3",
   "version": "3.10.12"
  },
  "papermill": {
   "default_parameters": {},
   "duration": 491.850802,
   "end_time": "2025-02-04T13:56:39.560485",
   "environment_variables": {},
   "exception": null,
   "input_path": "__notebook__.ipynb",
   "output_path": "__notebook__.ipynb",
   "parameters": {},
   "start_time": "2025-02-04T13:48:27.709683",
   "version": "2.6.0"
  }
 },
 "nbformat": 4,
 "nbformat_minor": 5
}
